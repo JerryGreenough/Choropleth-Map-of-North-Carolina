{
 "cells": [
  {
   "cell_type": "code",
   "execution_count": 1,
   "metadata": {
    "ExecuteTime": {
     "end_time": "2019-10-22T05:22:50.016673Z",
     "start_time": "2019-10-22T05:22:48.962213Z"
    }
   },
   "outputs": [],
   "source": [
    "import numpy as np\n",
    "import pandas as pd\n",
    "import requests\n",
    "import json"
   ]
  },
  {
   "cell_type": "code",
   "execution_count": 2,
   "metadata": {
    "ExecuteTime": {
     "end_time": "2019-10-22T05:22:50.536806Z",
     "start_time": "2019-10-22T05:22:50.018672Z"
    }
   },
   "outputs": [],
   "source": [
    "url = \"https://data.cdc.gov/resource/rpvx-m2md.json?$where=year=2017&$limit=30000\"\n",
    "JSONContent = requests.get(url).json()\n",
    "content = json.dumps(JSONContent , indent=4 ,sort_keys=True)\n",
    "#print(content)"
   ]
  },
  {
   "cell_type": "code",
   "execution_count": 3,
   "metadata": {
    "ExecuteTime": {
     "end_time": "2019-10-22T05:22:50.555803Z",
     "start_time": "2019-10-22T05:22:50.539792Z"
    }
   },
   "outputs": [],
   "source": [
    "dataset = []\n",
    "for item in JSONContent:\n",
    "    dataset.append([item['state'],item['county'],item['population'], item['model_based_death_rate'],item['standard_deviation'],\n",
    "                   item['urbanrural'],item['censusdivision']])\n",
    "\n",
    "data = pd.DataFrame(dataset)\n",
    "#data.sample(10)"
   ]
  },
  {
   "cell_type": "code",
   "execution_count": 4,
   "metadata": {
    "ExecuteTime": {
     "end_time": "2019-10-22T05:22:50.711874Z",
     "start_time": "2019-10-22T05:22:50.557804Z"
    }
   },
   "outputs": [],
   "source": [
    "data.columns=['State', 'County','Population', 'Death_Rate', 'Standard_Deviation', 'Urban/Rural Category', 'CensusDivision']\n",
    "data.dropna(axis= 0, how ='any', inplace=True)"
   ]
  },
  {
   "cell_type": "code",
   "execution_count": 5,
   "metadata": {
    "ExecuteTime": {
     "end_time": "2019-10-22T05:22:50.789864Z",
     "start_time": "2019-10-22T05:22:50.715860Z"
    }
   },
   "outputs": [],
   "source": [
    "#data.head(1)"
   ]
  },
  {
   "cell_type": "code",
   "execution_count": 5,
   "metadata": {
    "ExecuteTime": {
     "end_time": "2019-10-22T05:22:50.924043Z",
     "start_time": "2019-10-22T05:22:50.792863Z"
    }
   },
   "outputs": [
    {
     "data": {
      "text/html": [
       "<div>\n",
       "<style scoped>\n",
       "    .dataframe tbody tr th:only-of-type {\n",
       "        vertical-align: middle;\n",
       "    }\n",
       "\n",
       "    .dataframe tbody tr th {\n",
       "        vertical-align: top;\n",
       "    }\n",
       "\n",
       "    .dataframe thead th {\n",
       "        text-align: right;\n",
       "    }\n",
       "</style>\n",
       "<table border=\"1\" class=\"dataframe\">\n",
       "  <thead>\n",
       "    <tr style=\"text-align: right;\">\n",
       "      <th></th>\n",
       "      <th>State</th>\n",
       "      <th>County</th>\n",
       "      <th>Population</th>\n",
       "      <th>Death_Rate</th>\n",
       "      <th>Standard_Deviation</th>\n",
       "      <th>Urban/Rural Category</th>\n",
       "      <th>CensusDivision</th>\n",
       "    </tr>\n",
       "  </thead>\n",
       "  <tbody>\n",
       "    <tr>\n",
       "      <th>1927</th>\n",
       "      <td>North Carolina</td>\n",
       "      <td>Haywood County, NC</td>\n",
       "      <td>61084</td>\n",
       "      <td>30.22628958</td>\n",
       "      <td>4.825192669</td>\n",
       "      <td>Noncore</td>\n",
       "      <td>5</td>\n",
       "    </tr>\n",
       "  </tbody>\n",
       "</table>\n",
       "</div>"
      ],
      "text/plain": [
       "               State              County Population   Death_Rate  \\\n",
       "1927  North Carolina  Haywood County, NC      61084  30.22628958   \n",
       "\n",
       "     Standard_Deviation Urban/Rural Category CensusDivision  \n",
       "1927        4.825192669              Noncore              5  "
      ]
     },
     "execution_count": 5,
     "metadata": {},
     "output_type": "execute_result"
    }
   ],
   "source": [
    "north_carolina = data.loc[data['State'] == 'North Carolina']\n",
    "north_carolina.sample()"
   ]
  },
  {
   "cell_type": "code",
   "execution_count": 6,
   "metadata": {
    "ExecuteTime": {
     "end_time": "2019-10-22T05:22:51.130187Z",
     "start_time": "2019-10-22T05:22:50.928043Z"
    }
   },
   "outputs": [
    {
     "name": "stderr",
     "output_type": "stream",
     "text": [
      "C:\\Users\\jgree\\Anaconda3\\Lib\\site-packages\\ipykernel_launcher.py:1: SettingWithCopyWarning: \n",
      "A value is trying to be set on a copy of a slice from a DataFrame.\n",
      "Try using .loc[row_indexer,col_indexer] = value instead\n",
      "\n",
      "See the caveats in the documentation: http://pandas.pydata.org/pandas-docs/stable/indexing.html#indexing-view-versus-copy\n",
      "  \"\"\"Entry point for launching an IPython kernel.\n",
      "C:\\Users\\jgree\\Anaconda3\\Lib\\site-packages\\ipykernel_launcher.py:2: SettingWithCopyWarning: \n",
      "A value is trying to be set on a copy of a slice from a DataFrame.\n",
      "Try using .loc[row_indexer,col_indexer] = value instead\n",
      "\n",
      "See the caveats in the documentation: http://pandas.pydata.org/pandas-docs/stable/indexing.html#indexing-view-versus-copy\n",
      "  \n",
      "C:\\Users\\jgree\\Anaconda3\\Lib\\site-packages\\ipykernel_launcher.py:3: SettingWithCopyWarning: \n",
      "A value is trying to be set on a copy of a slice from a DataFrame.\n",
      "Try using .loc[row_indexer,col_indexer] = value instead\n",
      "\n",
      "See the caveats in the documentation: http://pandas.pydata.org/pandas-docs/stable/indexing.html#indexing-view-versus-copy\n",
      "  This is separate from the ipykernel package so we can avoid doing imports until\n",
      "C:\\Users\\jgree\\Anaconda3\\Lib\\site-packages\\ipykernel_launcher.py:4: SettingWithCopyWarning: \n",
      "A value is trying to be set on a copy of a slice from a DataFrame.\n",
      "Try using .loc[row_indexer,col_indexer] = value instead\n",
      "\n",
      "See the caveats in the documentation: http://pandas.pydata.org/pandas-docs/stable/indexing.html#indexing-view-versus-copy\n",
      "  after removing the cwd from sys.path.\n"
     ]
    }
   ],
   "source": [
    "north_carolina['Population'] = north_carolina['Population'].astype(int)\n",
    "north_carolina['Death_Rate'] = north_carolina['Death_Rate'].astype(float)\n",
    "north_carolina['Standard_Deviation'] = north_carolina['Standard_Deviation'].astype(float)\n",
    "north_carolina['CensusDivison'] = north_carolina['CensusDivision'].astype(int)"
   ]
  },
  {
   "cell_type": "code",
   "execution_count": 8,
   "metadata": {
    "ExecuteTime": {
     "end_time": "2019-10-22T05:22:51.161177Z",
     "start_time": "2019-10-22T05:22:51.134176Z"
    }
   },
   "outputs": [],
   "source": [
    "#north_carolina.dtypes"
   ]
  },
  {
   "cell_type": "code",
   "execution_count": 7,
   "metadata": {
    "ExecuteTime": {
     "end_time": "2019-10-22T05:22:51.248996Z",
     "start_time": "2019-10-22T05:22:51.164180Z"
    }
   },
   "outputs": [],
   "source": [
    "from fips import FIPS_finder"
   ]
  },
  {
   "cell_type": "code",
   "execution_count": 8,
   "metadata": {
    "ExecuteTime": {
     "end_time": "2019-10-22T05:22:51.884745Z",
     "start_time": "2019-10-22T05:22:51.252995Z"
    }
   },
   "outputs": [],
   "source": [
    "county, county_code = FIPS_finder()"
   ]
  },
  {
   "cell_type": "code",
   "execution_count": 9,
   "metadata": {
    "ExecuteTime": {
     "end_time": "2019-10-22T05:22:51.898727Z",
     "start_time": "2019-10-22T05:22:51.887724Z"
    }
   },
   "outputs": [],
   "source": [
    "county_code( 'Nc','Buncombe')"
   ]
  },
  {
   "cell_type": "code",
   "execution_count": 10,
   "metadata": {
    "ExecuteTime": {
     "end_time": "2019-10-22T05:22:52.153862Z",
     "start_time": "2019-10-22T05:22:51.902727Z"
    }
   },
   "outputs": [
    {
     "name": "stderr",
     "output_type": "stream",
     "text": [
      "C:\\Users\\jgree\\Anaconda3\\Lib\\site-packages\\ipykernel_launcher.py:1: SettingWithCopyWarning: \n",
      "A value is trying to be set on a copy of a slice from a DataFrame.\n",
      "Try using .loc[row_indexer,col_indexer] = value instead\n",
      "\n",
      "See the caveats in the documentation: http://pandas.pydata.org/pandas-docs/stable/indexing.html#indexing-view-versus-copy\n",
      "  \"\"\"Entry point for launching an IPython kernel.\n"
     ]
    }
   ],
   "source": [
    "north_carolina['County'] = north_carolina['County'].str.split(',').str[0]"
   ]
  },
  {
   "cell_type": "code",
   "execution_count": 11,
   "metadata": {
    "ExecuteTime": {
     "end_time": "2019-10-22T05:22:52.610114Z",
     "start_time": "2019-10-22T05:22:52.156864Z"
    }
   },
   "outputs": [
    {
     "name": "stderr",
     "output_type": "stream",
     "text": [
      "C:\\Users\\jgree\\Anaconda3\\Lib\\site-packages\\ipykernel_launcher.py:1: SettingWithCopyWarning: \n",
      "A value is trying to be set on a copy of a slice from a DataFrame.\n",
      "Try using .loc[row_indexer,col_indexer] = value instead\n",
      "\n",
      "See the caveats in the documentation: http://pandas.pydata.org/pandas-docs/stable/indexing.html#indexing-view-versus-copy\n",
      "  \"\"\"Entry point for launching an IPython kernel.\n"
     ]
    }
   ],
   "source": [
    "north_carolina['iFIPS'] = north_carolina.apply(lambda rr: county_code('NC', rr['County']), axis=1)"
   ]
  },
  {
   "cell_type": "code",
   "execution_count": 12,
   "metadata": {
    "ExecuteTime": {
     "end_time": "2019-10-22T05:22:52.634118Z",
     "start_time": "2019-10-22T05:22:52.613117Z"
    }
   },
   "outputs": [
    {
     "data": {
      "text/html": [
       "<div>\n",
       "<style scoped>\n",
       "    .dataframe tbody tr th:only-of-type {\n",
       "        vertical-align: middle;\n",
       "    }\n",
       "\n",
       "    .dataframe tbody tr th {\n",
       "        vertical-align: top;\n",
       "    }\n",
       "\n",
       "    .dataframe thead th {\n",
       "        text-align: right;\n",
       "    }\n",
       "</style>\n",
       "<table border=\"1\" class=\"dataframe\">\n",
       "  <thead>\n",
       "    <tr style=\"text-align: right;\">\n",
       "      <th></th>\n",
       "      <th>State</th>\n",
       "      <th>County</th>\n",
       "      <th>Population</th>\n",
       "      <th>Death_Rate</th>\n",
       "      <th>Standard_Deviation</th>\n",
       "      <th>Urban/Rural Category</th>\n",
       "      <th>CensusDivision</th>\n",
       "      <th>CensusDivison</th>\n",
       "      <th>iFIPS</th>\n",
       "    </tr>\n",
       "  </thead>\n",
       "  <tbody>\n",
       "    <tr>\n",
       "      <th>1911</th>\n",
       "      <td>North Carolina</td>\n",
       "      <td>Dare County</td>\n",
       "      <td>36099</td>\n",
       "      <td>28.191866</td>\n",
       "      <td>5.106452</td>\n",
       "      <td>Noncore</td>\n",
       "      <td>5</td>\n",
       "      <td>5</td>\n",
       "      <td>(37, 55)</td>\n",
       "    </tr>\n",
       "    <tr>\n",
       "      <th>1912</th>\n",
       "      <td>North Carolina</td>\n",
       "      <td>Davidson County</td>\n",
       "      <td>165466</td>\n",
       "      <td>30.549122</td>\n",
       "      <td>3.600660</td>\n",
       "      <td>Medium Metro</td>\n",
       "      <td>5</td>\n",
       "      <td>5</td>\n",
       "      <td>(37, 57)</td>\n",
       "    </tr>\n",
       "    <tr>\n",
       "      <th>1980</th>\n",
       "      <td>North Carolina</td>\n",
       "      <td>Wilkes County</td>\n",
       "      <td>68576</td>\n",
       "      <td>32.328687</td>\n",
       "      <td>4.921502</td>\n",
       "      <td>Noncore</td>\n",
       "      <td>5</td>\n",
       "      <td>5</td>\n",
       "      <td>(37, 193)</td>\n",
       "    </tr>\n",
       "    <tr>\n",
       "      <th>1941</th>\n",
       "      <td>North Carolina</td>\n",
       "      <td>Madison County</td>\n",
       "      <td>21746</td>\n",
       "      <td>25.259992</td>\n",
       "      <td>5.048839</td>\n",
       "      <td>Small Metro</td>\n",
       "      <td>5</td>\n",
       "      <td>5</td>\n",
       "      <td>(37, 115)</td>\n",
       "    </tr>\n",
       "    <tr>\n",
       "      <th>1921</th>\n",
       "      <td>North Carolina</td>\n",
       "      <td>Graham County</td>\n",
       "      <td>8541</td>\n",
       "      <td>30.096988</td>\n",
       "      <td>6.481443</td>\n",
       "      <td>Noncore</td>\n",
       "      <td>5</td>\n",
       "      <td>5</td>\n",
       "      <td>(37, 75)</td>\n",
       "    </tr>\n",
       "  </tbody>\n",
       "</table>\n",
       "</div>"
      ],
      "text/plain": [
       "               State           County  Population  Death_Rate  \\\n",
       "1911  North Carolina      Dare County       36099   28.191866   \n",
       "1912  North Carolina  Davidson County      165466   30.549122   \n",
       "1980  North Carolina    Wilkes County       68576   32.328687   \n",
       "1941  North Carolina   Madison County       21746   25.259992   \n",
       "1921  North Carolina    Graham County        8541   30.096988   \n",
       "\n",
       "      Standard_Deviation Urban/Rural Category CensusDivision  CensusDivison  \\\n",
       "1911            5.106452              Noncore              5              5   \n",
       "1912            3.600660         Medium Metro              5              5   \n",
       "1980            4.921502              Noncore              5              5   \n",
       "1941            5.048839          Small Metro              5              5   \n",
       "1921            6.481443              Noncore              5              5   \n",
       "\n",
       "          iFIPS  \n",
       "1911   (37, 55)  \n",
       "1912   (37, 57)  \n",
       "1980  (37, 193)  \n",
       "1941  (37, 115)  \n",
       "1921   (37, 75)  "
      ]
     },
     "execution_count": 12,
     "metadata": {},
     "output_type": "execute_result"
    }
   ],
   "source": [
    "north_carolina.sample(5)"
   ]
  },
  {
   "cell_type": "code",
   "execution_count": 13,
   "metadata": {
    "ExecuteTime": {
     "end_time": "2019-10-22T05:22:52.805147Z",
     "start_time": "2019-10-22T05:22:52.637116Z"
    }
   },
   "outputs": [],
   "source": [
    "del north_carolina['CensusDivision']"
   ]
  },
  {
   "cell_type": "code",
   "execution_count": 14,
   "metadata": {
    "ExecuteTime": {
     "end_time": "2019-10-22T05:22:53.032169Z",
     "start_time": "2019-10-22T05:22:52.807132Z"
    }
   },
   "outputs": [
    {
     "name": "stderr",
     "output_type": "stream",
     "text": [
      "C:\\Users\\jgree\\Anaconda3\\Lib\\site-packages\\ipykernel_launcher.py:2: SettingWithCopyWarning: \n",
      "A value is trying to be set on a copy of a slice from a DataFrame.\n",
      "Try using .loc[row_indexer,col_indexer] = value instead\n",
      "\n",
      "See the caveats in the documentation: http://pandas.pydata.org/pandas-docs/stable/indexing.html#indexing-view-versus-copy\n",
      "  \n"
     ]
    }
   ],
   "source": [
    "#north_carolina['iFIPS'] = north_carolina['iFIPS'].astype(int)\n",
    "north_carolina['Fips'] = north_carolina['iFIPS'].str[1]"
   ]
  },
  {
   "cell_type": "code",
   "execution_count": 15,
   "metadata": {
    "ExecuteTime": {
     "end_time": "2019-10-22T05:22:53.109466Z",
     "start_time": "2019-10-22T05:22:53.035171Z"
    }
   },
   "outputs": [],
   "source": [
    "#north_carolina['iFIPS'] = north_carolina['iFIPS'].str.split(',').int[1]\n",
    "#north_carolina.sample()\n",
    "del north_carolina['iFIPS']"
   ]
  },
  {
   "cell_type": "code",
   "execution_count": 16,
   "metadata": {
    "ExecuteTime": {
     "end_time": "2019-10-22T05:22:53.220298Z",
     "start_time": "2019-10-22T05:22:53.111467Z"
    }
   },
   "outputs": [
    {
     "data": {
      "text/html": [
       "<div>\n",
       "<style scoped>\n",
       "    .dataframe tbody tr th:only-of-type {\n",
       "        vertical-align: middle;\n",
       "    }\n",
       "\n",
       "    .dataframe tbody tr th {\n",
       "        vertical-align: top;\n",
       "    }\n",
       "\n",
       "    .dataframe thead th {\n",
       "        text-align: right;\n",
       "    }\n",
       "</style>\n",
       "<table border=\"1\" class=\"dataframe\">\n",
       "  <thead>\n",
       "    <tr style=\"text-align: right;\">\n",
       "      <th></th>\n",
       "      <th>State</th>\n",
       "      <th>County</th>\n",
       "      <th>Population</th>\n",
       "      <th>Death_Rate</th>\n",
       "      <th>Standard_Deviation</th>\n",
       "      <th>Urban/Rural Category</th>\n",
       "      <th>CensusDivison</th>\n",
       "      <th>Fips</th>\n",
       "    </tr>\n",
       "  </thead>\n",
       "  <tbody>\n",
       "    <tr>\n",
       "      <th>1897</th>\n",
       "      <td>North Carolina</td>\n",
       "      <td>Caldwell County</td>\n",
       "      <td>81981</td>\n",
       "      <td>25.952906</td>\n",
       "      <td>3.999689</td>\n",
       "      <td>Medium Metro</td>\n",
       "      <td>5</td>\n",
       "      <td>27</td>\n",
       "    </tr>\n",
       "  </tbody>\n",
       "</table>\n",
       "</div>"
      ],
      "text/plain": [
       "               State           County  Population  Death_Rate  \\\n",
       "1897  North Carolina  Caldwell County       81981   25.952906   \n",
       "\n",
       "      Standard_Deviation Urban/Rural Category  CensusDivison  Fips  \n",
       "1897            3.999689         Medium Metro              5    27  "
      ]
     },
     "execution_count": 16,
     "metadata": {},
     "output_type": "execute_result"
    }
   ],
   "source": [
    "north_carolina.sample()"
   ]
  },
  {
   "cell_type": "code",
   "execution_count": 20,
   "metadata": {
    "ExecuteTime": {
     "end_time": "2019-10-22T05:22:53.340181Z",
     "start_time": "2019-10-22T05:22:53.224280Z"
    }
   },
   "outputs": [
    {
     "name": "stderr",
     "output_type": "stream",
     "text": [
      "C:\\Users\\jgree\\Anaconda3\\Lib\\site-packages\\ipykernel_launcher.py:1: SettingWithCopyWarning: \n",
      "A value is trying to be set on a copy of a slice from a DataFrame.\n",
      "Try using .loc[row_indexer,col_indexer] = value instead\n",
      "\n",
      "See the caveats in the documentation: http://pandas.pydata.org/pandas-docs/stable/indexing.html#indexing-view-versus-copy\n",
      "  \"\"\"Entry point for launching an IPython kernel.\n"
     ]
    }
   ],
   "source": [
    "north_carolina['Fips'] = north_carolina['Fips'].astype(int)"
   ]
  },
  {
   "cell_type": "code",
   "execution_count": 20,
   "metadata": {
    "ExecuteTime": {
     "end_time": "2019-10-22T05:22:53.419158Z",
     "start_time": "2019-10-22T05:22:53.342183Z"
    }
   },
   "outputs": [],
   "source": [
    "#north_carolina.dtypes"
   ]
  },
  {
   "cell_type": "code",
   "execution_count": 21,
   "metadata": {
    "ExecuteTime": {
     "end_time": "2019-10-22T05:22:53.504150Z",
     "start_time": "2019-10-22T05:22:53.421145Z"
    }
   },
   "outputs": [],
   "source": [
    "north_carolina.to_csv('North_carolina_drug_poisoning.csv', index=False)"
   ]
  },
  {
   "cell_type": "code",
   "execution_count": 22,
   "metadata": {
    "ExecuteTime": {
     "end_time": "2019-10-22T05:22:53.825870Z",
     "start_time": "2019-10-22T05:22:53.507154Z"
    }
   },
   "outputs": [],
   "source": [
    "from sqlalchemy import create_engine\n",
    "\n",
    "# Imports the methods needed to abstract classes into tables\n",
    "from sqlalchemy.ext.declarative import declarative_base\n",
    "\n",
    "# Allow us to declare column types\n",
    "from sqlalchemy import Column, Integer, String, Float, ARRAY"
   ]
  },
  {
   "cell_type": "code",
   "execution_count": 23,
   "metadata": {
    "ExecuteTime": {
     "end_time": "2019-10-22T05:22:53.839860Z",
     "start_time": "2019-10-22T05:22:53.829861Z"
    }
   },
   "outputs": [],
   "source": [
    "drugs = north_carolina[['Fips', 'State','County', 'Population', 'Death_Rate', 'Standard_Deviation', 'Urban/Rural Category','CensusDivison' ]]"
   ]
  },
  {
   "cell_type": "code",
   "execution_count": 24,
   "metadata": {
    "ExecuteTime": {
     "end_time": "2019-10-22T05:22:53.947868Z",
     "start_time": "2019-10-22T05:22:53.843872Z"
    }
   },
   "outputs": [
    {
     "data": {
      "text/html": [
       "<div>\n",
       "<style scoped>\n",
       "    .dataframe tbody tr th:only-of-type {\n",
       "        vertical-align: middle;\n",
       "    }\n",
       "\n",
       "    .dataframe tbody tr th {\n",
       "        vertical-align: top;\n",
       "    }\n",
       "\n",
       "    .dataframe thead th {\n",
       "        text-align: right;\n",
       "    }\n",
       "</style>\n",
       "<table border=\"1\" class=\"dataframe\">\n",
       "  <thead>\n",
       "    <tr style=\"text-align: right;\">\n",
       "      <th></th>\n",
       "      <th>Fips</th>\n",
       "      <th>State</th>\n",
       "      <th>County</th>\n",
       "      <th>Population</th>\n",
       "      <th>Death_Rate</th>\n",
       "      <th>Standard_Deviation</th>\n",
       "      <th>Urban/Rural Category</th>\n",
       "      <th>CensusDivison</th>\n",
       "    </tr>\n",
       "  </thead>\n",
       "  <tbody>\n",
       "    <tr>\n",
       "      <th>1905</th>\n",
       "      <td>43</td>\n",
       "      <td>North Carolina</td>\n",
       "      <td>Clay County</td>\n",
       "      <td>11074</td>\n",
       "      <td>29.952475</td>\n",
       "      <td>6.32914</td>\n",
       "      <td>Noncore</td>\n",
       "      <td>5</td>\n",
       "    </tr>\n",
       "  </tbody>\n",
       "</table>\n",
       "</div>"
      ],
      "text/plain": [
       "      Fips           State       County  Population  Death_Rate  \\\n",
       "1905    43  North Carolina  Clay County       11074   29.952475   \n",
       "\n",
       "      Standard_Deviation Urban/Rural Category  CensusDivison  \n",
       "1905             6.32914              Noncore              5  "
      ]
     },
     "execution_count": 24,
     "metadata": {},
     "output_type": "execute_result"
    }
   ],
   "source": [
    "drugs.sample()"
   ]
  },
  {
   "cell_type": "code",
   "execution_count": 25,
   "metadata": {
    "ExecuteTime": {
     "end_time": "2019-10-22T05:22:54.095878Z",
     "start_time": "2019-10-22T05:22:53.950869Z"
    }
   },
   "outputs": [],
   "source": [
    "drugs['Death_Rate'] = drugs['Death_Rate'].round(decimals=2)\n",
    "drugs['Standard_Deviation'] = drugs['Standard_Deviation'].round(decimals=2)"
   ]
  },
  {
   "cell_type": "code",
   "execution_count": 26,
   "metadata": {
    "ExecuteTime": {
     "end_time": "2019-10-22T05:22:54.177885Z",
     "start_time": "2019-10-22T05:22:54.100880Z"
    }
   },
   "outputs": [],
   "source": [
    "#drugs.sample()"
   ]
  },
  {
   "cell_type": "code",
   "execution_count": 26,
   "metadata": {
    "ExecuteTime": {
     "end_time": "2019-10-22T05:22:54.316932Z",
     "start_time": "2019-10-22T05:22:54.181885Z"
    }
   },
   "outputs": [],
   "source": [
    "Base = declarative_base()\n",
    "class NCDrugs(Base):\n",
    "    __tablename__ = 'NC Drugs'\n",
    "    id = Column(Integer, primary_key=True)\n",
    "    #State = Column(String(255))\n",
    "    #County = Column(String(255))\n",
    "    Population = Column(Float)\n",
    "    Death_Rate = Column(Float)\n",
    "    Standard_Deviation = Column(Float)\n",
    "    #Urban_Rural_Category = Column(String(255))\n",
    "    #CensusDivision = Column(Integer)"
   ]
  },
  {
   "cell_type": "code",
   "execution_count": 28,
   "metadata": {
    "ExecuteTime": {
     "end_time": "2019-10-22T05:22:54.651949Z",
     "start_time": "2019-10-22T05:22:54.320897Z"
    }
   },
   "outputs": [],
   "source": [
    "from dbconfig import sqlConnection\n",
    "engine = create_engine(sqlConnection)\n",
    "conn = engine.connect()"
   ]
  },
  {
   "cell_type": "code",
   "execution_count": 29,
   "metadata": {
    "ExecuteTime": {
     "end_time": "2019-10-22T05:22:54.970944Z",
     "start_time": "2019-10-22T05:22:54.654938Z"
    }
   },
   "outputs": [],
   "source": [
    "Base.metadata.drop_all(engine)\n",
    "Base.metadata.create_all(engine)"
   ]
  },
  {
   "cell_type": "code",
   "execution_count": 30,
   "metadata": {
    "ExecuteTime": {
     "end_time": "2019-10-22T05:22:54.977946Z",
     "start_time": "2019-10-22T05:22:54.973944Z"
    }
   },
   "outputs": [],
   "source": [
    "from sqlalchemy.orm import Session\n",
    "session = Session(bind=engine)"
   ]
  },
  {
   "cell_type": "code",
   "execution_count": 31,
   "metadata": {
    "ExecuteTime": {
     "end_time": "2019-10-22T05:22:55.071965Z",
     "start_time": "2019-10-22T05:22:54.979946Z"
    }
   },
   "outputs": [],
   "source": [
    "# transfrom the data in a list of dictionnary so we can loop through it \n",
    "NCData = drugs.to_dict('records')\n"
   ]
  },
  {
   "cell_type": "code",
   "execution_count": 32,
   "metadata": {
    "ExecuteTime": {
     "end_time": "2019-10-22T15:10:51.473360Z",
     "start_time": "2019-10-22T15:10:51.440360Z"
    }
   },
   "outputs": [],
   "source": [
    "for data in NCData:\n",
    "    info = NCDrugs(id=int(data['Fips']), \n",
    "                   #State=data['State'], \n",
    "                   #County=data['County'], \n",
    "                   Population=data['Population'],\n",
    "                   Death_Rate=data['Death_Rate'],\n",
    "                   Standard_Deviation=data['Standard_Deviation']\n",
    "                   #Urban_Rural_Category=data['Urban/Rural Category']\n",
    "                   #CensusDivision=data['CensusDivison']\n",
    "                  )\n",
    "    session.add(info)\n",
    "    \n",
    "session.commit()"
   ]
  }
 ],
 "metadata": {
  "kernelspec": {
   "display_name": "Python 3",
   "language": "python",
   "name": "python3"
  },
  "language_info": {
   "codemirror_mode": {
    "name": "ipython",
    "version": 3
   },
   "file_extension": ".py",
   "mimetype": "text/x-python",
   "name": "python",
   "nbconvert_exporter": "python",
   "pygments_lexer": "ipython3",
   "version": "3.7.3"
  }
 },
 "nbformat": 4,
 "nbformat_minor": 2
}
