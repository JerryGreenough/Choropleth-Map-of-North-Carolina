{
 "cells": [
  {
   "cell_type": "code",
   "execution_count": 1,
   "metadata": {},
   "outputs": [],
   "source": [
    "# Read the CSV file from the Robert Wood Johnson Foundation program.\n",
    "\n",
    "import pandas as pd\n",
    "\n",
    "url=\"https://www.countyhealthrankings.org/sites/default/files/analytic_data2019.csv\"\n",
    "dfLE = pd.read_csv(url, low_memory=False)"
   ]
  },
  {
   "cell_type": "code",
   "execution_count": 2,
   "metadata": {},
   "outputs": [],
   "source": [
    "# Set the column names equal to the data in the first row. Then remove the first row.\n",
    "\n",
    "dfLE.columns = dfLE.iloc[0]\n",
    "dfLE.drop(dfLE.index[0], inplace=True)"
   ]
  },
  {
   "cell_type": "code",
   "execution_count": 3,
   "metadata": {},
   "outputs": [],
   "source": [
    "# Create a dataframe specific to North Carolina (which is state code 37)\n",
    "\n",
    "NorthCarolina = (dfLE.loc[dfLE['statecode']=='37'])[['countycode', 'county', 'v147_rawvalue']]\n",
    "NorthCarolina.reset_index(inplace=True)\n",
    "NorthCarolina.drop(columns=['index'], inplace=True)\n",
    "\n",
    "# Drop the first row as this does not contain county data.\n",
    "\n",
    "NorthCarolina.drop(NorthCarolina.index[0], inplace=True)"
   ]
  },
  {
   "cell_type": "code",
   "execution_count": 4,
   "metadata": {},
   "outputs": [
    {
     "name": "stdout",
     "output_type": "stream",
     "text": [
      "Empty DataFrame\n",
      "Columns: [countycode, county, v147_rawvalue]\n",
      "Index: []\n"
     ]
    }
   ],
   "source": [
    "# Are there any NaN values ?\n",
    "print(NorthCarolina.loc[NorthCarolina['v147_rawvalue'].isna()])"
   ]
  },
  {
   "cell_type": "code",
   "execution_count": 5,
   "metadata": {},
   "outputs": [],
   "source": [
    "# Convert the county code to an integer.\n",
    "# Convert the life expectancy to a float.\n",
    "\n",
    "NorthCarolina.rename(columns = {'v147_rawvalue':'Life Expectancy'}, inplace=True)\n",
    "NorthCarolina['countycode'] = NorthCarolina['countycode'].astype(int)\n",
    "NorthCarolina['Life Expectancy'] = NorthCarolina['Life Expectancy'].astype(float)"
   ]
  },
  {
   "cell_type": "code",
   "execution_count": 6,
   "metadata": {},
   "outputs": [],
   "source": [
    "# Create a list of dictionaries containing the data for each county.\n",
    "\n",
    "NCData = NorthCarolina.to_dict('records')"
   ]
  },
  {
   "cell_type": "code",
   "execution_count": 7,
   "metadata": {},
   "outputs": [],
   "source": [
    "# Read the geographical information.\n",
    "\n",
    "import geopandas as gp\n",
    "\n",
    "url = \"https://raw.github.com/JerryGreenough/Mecklenburg-County/master/us500k.json\"\n",
    "us = gp.read_file(url)"
   ]
  },
  {
   "cell_type": "code",
   "execution_count": 8,
   "metadata": {},
   "outputs": [
    {
     "name": "stderr",
     "output_type": "stream",
     "text": [
      "C:\\Users\\jgree\\Anaconda3\\Lib\\site-packages\\ipykernel_launcher.py:4: SettingWithCopyWarning: \n",
      "A value is trying to be set on a copy of a slice from a DataFrame.\n",
      "Try using .loc[row_indexer,col_indexer] = value instead\n",
      "\n",
      "See the caveats in the documentation: http://pandas.pydata.org/pandas-docs/stable/indexing.html#indexing-view-versus-copy\n",
      "  after removing the cwd from sys.path.\n"
     ]
    }
   ],
   "source": [
    "# Select the North Carolina counties. Convert the county FIPS number to an integer.\n",
    "\n",
    "NorthCarolinaCounties = us.loc[us['STATE']=='37']\n",
    "NorthCarolinaCounties['COUNTY'] = NorthCarolinaCounties['COUNTY'].astype(int)"
   ]
  },
  {
   "cell_type": "code",
   "execution_count": 9,
   "metadata": {},
   "outputs": [],
   "source": [
    "# Create a dictionary of polygons for North Carolina.\n",
    "\n",
    "polygons = dict()\n",
    "\n",
    "for i in range(len(NorthCarolinaCounties)):\n",
    "    if type(NorthCarolinaCounties.iloc[i,6]).__name__ == 'Polygon':\n",
    "        \n",
    "        aaa = list(NorthCarolinaCounties.iloc[i,6].exterior.coords)\n",
    "        polygons[NorthCarolinaCounties.iloc[i,2]] = aaa\n",
    "    else:\n",
    "        aaa = list(NorthCarolinaCounties.iloc[i,6][0].exterior.coords)\n",
    "        polygons[NorthCarolinaCounties.iloc[i,2]] = aaa"
   ]
  },
  {
   "cell_type": "code",
   "execution_count": 10,
   "metadata": {},
   "outputs": [],
   "source": [
    "# For each county listed in NCData.\n",
    "\n",
    "for xxx in NCData:\n",
    "    xxx['polygon'] = polygons[xxx['countycode']]"
   ]
  },
  {
   "cell_type": "code",
   "execution_count": 11,
   "metadata": {},
   "outputs": [],
   "source": [
    "# Dependencies\n",
    "# ----------------------------------\n",
    "# Imports the method used for connecting to DBs\n",
    "from sqlalchemy import create_engine\n",
    "\n",
    "# Imports the methods needed to abstract classes into tables\n",
    "from sqlalchemy.ext.declarative import declarative_base\n",
    "\n",
    "# Allow us to declare column types\n",
    "from sqlalchemy import Column, Integer, String, Float, ARRAY"
   ]
  },
  {
   "cell_type": "code",
   "execution_count": 12,
   "metadata": {},
   "outputs": [],
   "source": [
    "Base = declarative_base()\n",
    "\n",
    "# Working with the SQLAlchemy ORM.\n",
    "# Define a mapped class, which maps to rows of the NC Counties database table.\n",
    "\n",
    "# Creates an NC county class which will serve as the anchor points for our Tables.\n",
    "class NCCounty(Base):\n",
    "    __tablename__ = 'NC Counties'\n",
    "    id = Column(Integer, primary_key=True)\n",
    "    name = Column(String(255))\n",
    "    boundary = Column(ARRAY(Float))\n",
    "    \n",
    "    \n",
    "class NCLifeExpectancy(Base):\n",
    "    __tablename__ = 'NC Life Expectancy'\n",
    "    id = Column(Integer, primary_key=True)\n",
    "    life_expectancy = Column(Float)"
   ]
  },
  {
   "cell_type": "code",
   "execution_count": 13,
   "metadata": {},
   "outputs": [],
   "source": [
    "from dbconfig import sqlConnection\n",
    "engine = create_engine(sqlConnection)\n",
    "conn = engine.connect()"
   ]
  },
  {
   "cell_type": "code",
   "execution_count": 14,
   "metadata": {},
   "outputs": [],
   "source": [
    "Base.metadata.drop_all(engine)\n",
    "Base.metadata.create_all(engine)"
   ]
  },
  {
   "cell_type": "code",
   "execution_count": 15,
   "metadata": {},
   "outputs": [],
   "source": [
    "# Create a Session Object to Connect to DB\n",
    "# ----------------------------------\n",
    "from sqlalchemy.orm import Session\n",
    "session = Session(bind=engine)"
   ]
  },
  {
   "cell_type": "code",
   "execution_count": 16,
   "metadata": {},
   "outputs": [],
   "source": [
    "for xx in NCData:\n",
    "    ncc = NCCounty(id=int(xx['countycode']), name=xx['county'], boundary=xx['polygon'])\n",
    "    session.add(ncc)\n",
    "    \n",
    "session.commit()"
   ]
  },
  {
   "cell_type": "code",
   "execution_count": 17,
   "metadata": {},
   "outputs": [],
   "source": [
    "for xx in NCData:\n",
    "    ledat = NCLifeExpectancy(id=int(xx['countycode']), life_expectancy=xx['Life Expectancy'])\n",
    "    session.add(ledat)\n",
    "    \n",
    "session.commit()"
   ]
  }
 ],
 "metadata": {
  "kernelspec": {
   "display_name": "Python 3",
   "language": "python",
   "name": "python3"
  },
  "language_info": {
   "codemirror_mode": {
    "name": "ipython",
    "version": 3
   },
   "file_extension": ".py",
   "mimetype": "text/x-python",
   "name": "python",
   "nbconvert_exporter": "python",
   "pygments_lexer": "ipython3",
   "version": "3.7.3"
  }
 },
 "nbformat": 4,
 "nbformat_minor": 2
}
